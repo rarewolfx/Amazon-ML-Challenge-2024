{
 "cells": [
  {
   "cell_type": "markdown",
   "metadata": {
    "_cell_guid": "b1076dfc-b9ad-4769-8c92-a6c4dae69d19",
    "_uuid": "8f2839f25d086af736a60e9eeb907d3b93b6e0e5",
    "execution": {
     "iopub.execute_input": "2024-09-14T11:19:50.004624Z",
     "iopub.status.busy": "2024-09-14T11:19:50.003785Z",
     "iopub.status.idle": "2024-09-14T11:19:50.028799Z",
     "shell.execute_reply": "2024-09-14T11:19:50.027680Z",
     "shell.execute_reply.started": "2024-09-14T11:19:50.004583Z"
    }
   },
   "source": [
    "# Team Aloo Parathaaa @ Snehasish_Notebook2\n",
    "### OCR -> Custom Line Detection -> Basic Regex -> Write to csv file\n",
    "### For entity_name: weight, wattage, voltage, volume"
   ]
  },
  {
   "cell_type": "markdown",
   "metadata": {},
   "source": [
    "# Dependancies"
   ]
  },
  {
   "cell_type": "code",
   "execution_count": 31,
   "metadata": {
    "execution": {
     "iopub.execute_input": "2024-12-01T20:11:18.719799Z",
     "iopub.status.busy": "2024-12-01T20:11:18.718882Z",
     "iopub.status.idle": "2024-12-01T20:11:39.823661Z",
     "shell.execute_reply": "2024-12-01T20:11:39.822825Z",
     "shell.execute_reply.started": "2024-12-01T20:11:18.719764Z"
    },
    "trusted": true
   },
   "outputs": [
    {
     "name": "stdout",
     "output_type": "stream",
     "text": [
      "[2024/12/01 20:11:36] ppocr DEBUG: Namespace(help='==SUPPRESS==', use_gpu=True, use_xpu=False, use_npu=False, use_mlu=False, ir_optim=True, use_tensorrt=False, min_subgraph_size=15, precision='fp32', gpu_mem=500, gpu_id=0, image_dir=None, page_num=0, det_algorithm='DB', det_model_dir='/root/.paddleocr/whl/det/en/en_PP-OCRv3_det_infer', det_limit_side_len=960, det_limit_type='max', det_box_type='quad', det_db_thresh=0.3, det_db_box_thresh=0.6, det_db_unclip_ratio=1.5, max_batch_size=10, use_dilation=False, det_db_score_mode='fast', det_east_score_thresh=0.8, det_east_cover_thresh=0.1, det_east_nms_thresh=0.2, det_sast_score_thresh=0.5, det_sast_nms_thresh=0.2, det_pse_thresh=0, det_pse_box_thresh=0.85, det_pse_min_area=16, det_pse_scale=1, scales=[8, 16, 32], alpha=1.0, beta=1.0, fourier_degree=5, rec_algorithm='SVTR_LCNet', rec_model_dir='/root/.paddleocr/whl/rec/en/en_PP-OCRv4_rec_infer', rec_image_inverse=True, rec_image_shape='3, 48, 320', rec_batch_num=6, max_text_length=25, rec_char_dict_path='/opt/conda/lib/python3.10/site-packages/paddleocr/ppocr/utils/en_dict.txt', use_space_char=True, vis_font_path='./doc/fonts/simfang.ttf', drop_score=0.5, e2e_algorithm='PGNet', e2e_model_dir=None, e2e_limit_side_len=768, e2e_limit_type='max', e2e_pgnet_score_thresh=0.5, e2e_char_dict_path='./ppocr/utils/ic15_dict.txt', e2e_pgnet_valid_set='totaltext', e2e_pgnet_mode='fast', use_angle_cls=True, cls_model_dir='/root/.paddleocr/whl/cls/ch_ppocr_mobile_v2.0_cls_infer', cls_image_shape='3, 48, 192', label_list=['0', '180'], cls_batch_num=6, cls_thresh=0.9, enable_mkldnn=False, cpu_threads=10, use_pdserving=False, warmup=False, sr_model_dir=None, sr_image_shape='3, 32, 128', sr_batch_num=1, draw_img_save_dir='./inference_results', save_crop_res=False, crop_res_save_dir='./output', use_mp=False, total_process_num=1, process_id=0, benchmark=False, save_log_path='./log_output/', show_log=True, use_onnx=False, return_word_box=False, output='./output', table_max_len=488, table_algorithm='TableAttn', table_model_dir=None, merge_no_span_structure=True, table_char_dict_path=None, formula_algorithm='LaTeXOCR', formula_model_dir=None, formula_char_dict_path=None, formula_batch_num=1, layout_model_dir=None, layout_dict_path=None, layout_score_threshold=0.5, layout_nms_threshold=0.5, kie_algorithm='LayoutXLM', ser_model_dir=None, re_model_dir=None, use_visual_backbone=True, ser_dict_path='../train_data/XFUND/class_list_xfun.txt', ocr_order_method=None, mode='structure', image_orientation=False, layout=True, table=True, formula=False, ocr=True, recovery=False, recovery_to_markdown=False, use_pdf2docx_api=False, invert=False, binarize=False, alphacolor=(255, 255, 255), lang='en', det=True, rec=True, type='ocr', savefile=False, ocr_version='PP-OCRv4', structure_version='PP-StructureV2')\n",
      "[2024/12/01 20:11:36] ppocr WARNING: The first GPU is used for inference by default, GPU ID: 0\n",
      "[2024/12/01 20:11:37] ppocr WARNING: The first GPU is used for inference by default, GPU ID: 0\n",
      "[2024/12/01 20:11:38] ppocr WARNING: The first GPU is used for inference by default, GPU ID: 0\n"
     ]
    }
   ],
   "source": [
    "# General\n",
    "import re\n",
    "import cv2\n",
    "import time\n",
    "import math\n",
    "import torch\n",
    "import numpy as np\n",
    "from tqdm import tqdm\n",
    "import matplotlib.pyplot as plt\n",
    "\n",
    "# Data Extraction\n",
    "import os\n",
    "import sys\n",
    "import zipfile\n",
    "import requests\n",
    "import pandas as pd\n",
    "from io import BytesIO\n",
    "from pathlib import Path\n",
    "\n",
    "# Images\n",
    "from IPython import display\n",
    "from PIL import Image\n",
    "\n",
    "# PaddleOCR dpendencies\n",
    "!pip install -q paddlepaddle-gpu==2.6.1\n",
    "device = torch.device(\"cuda:0\" if torch.cuda.is_available() else \"cpu\")\n",
    "if device == \"cpu\": \n",
    "    !pip install -q paddlepaddle\n",
    "!pip install -q paddleocr\n",
    "\n",
    "# Setting up OCR\n",
    "import paddle\n",
    "import logging\n",
    "from paddleocr import PaddleOCR, draw_ocr\n",
    "OCR = PaddleOCR(use_angle_cls=True, lang='en', use_gpu=True)\n",
    "\n",
    "# Set logging level to WARNING to suppress DEBUG logs\n",
    "logging.getLogger('ppocr').setLevel(logging.WARNING)"
   ]
  },
  {
   "cell_type": "code",
   "execution_count": 32,
   "metadata": {
    "execution": {
     "iopub.execute_input": "2024-12-01T20:12:08.673451Z",
     "iopub.status.busy": "2024-12-01T20:12:08.673067Z",
     "iopub.status.idle": "2024-12-01T20:12:08.679647Z",
     "shell.execute_reply": "2024-12-01T20:12:08.678667Z",
     "shell.execute_reply.started": "2024-12-01T20:12:08.673416Z"
    },
    "trusted": true
   },
   "outputs": [
    {
     "name": "stdout",
     "output_type": "stream",
     "text": [
      "OCR GPU Compile Check:  True\n",
      "OCR on GPU check:  gpu:0\n",
      "Current device:  cuda:0\n"
     ]
    }
   ],
   "source": [
    "# Checking if OCR on GPU\n",
    "print(\"OCR GPU Compile Check: \", paddle.device.is_compiled_with_cuda())\n",
    "print(\"OCR on GPU check: \", paddle.device.get_device())\n",
    "print(\"Current device: \", device)"
   ]
  },
  {
   "cell_type": "markdown",
   "metadata": {},
   "source": [
    "# FULL PROCESS"
   ]
  },
  {
   "cell_type": "markdown",
   "metadata": {},
   "source": [
    "## Helper Functions"
   ]
  },
  {
   "cell_type": "code",
   "execution_count": 33,
   "metadata": {
    "execution": {
     "iopub.execute_input": "2024-12-01T20:12:24.103237Z",
     "iopub.status.busy": "2024-12-01T20:12:24.102281Z",
     "iopub.status.idle": "2024-12-01T20:12:24.113357Z",
     "shell.execute_reply": "2024-12-01T20:12:24.112149Z",
     "shell.execute_reply.started": "2024-12-01T20:12:24.103201Z"
    },
    "trusted": true
   },
   "outputs": [],
   "source": [
    "def distance_point_to_line(px, py, x1, y1, x2, y2):\n",
    "    \"\"\" Calculate the perpendicular distance from point (px, py) to the line (x1, y1)-(x2, y2) \"\"\"\n",
    "    numerator = abs((y2 - y1) * px - (x2 - x1) * py + x2 * y1 - y2 * x1)\n",
    "    denominator = math.sqrt((y2 - y1)**2 + (x2 - x1)**2)\n",
    "    return numerator / denominator\n",
    "\n",
    "def line_angle(x1, y1, x2, y2):\n",
    "    \"\"\" Calculate the angle of the line (x1, y1) to (x2, y2) with respect to the horizontal axis \"\"\"\n",
    "    return abs(math.degrees(math.atan2(y2 - y1, x2 - x1)))%360\n",
    "\n",
    "def is_approximately_vertical(angle, lower_bound=75, upper_bound=105):\n",
    "    \"\"\" Check if the normalized angle is between lower_bound and upper_bound degrees \"\"\"\n",
    "    return lower_bound <= angle <= upper_bound\n",
    "\n",
    "def is_approximately_horizontal(angle, lower_bound=0, upper_bound=60):\n",
    "    \"\"\" Check if the normalized angle is between lower_bound and upper_bound degrees \"\"\"\n",
    "    return lower_bound <= angle <= upper_bound\n",
    "\n",
    "def is_approximately_diagonal(angle, lower_bound=50, upper_bound=70):\n",
    "    \"\"\" Check if the normalized angle is between lower_bound and upper_bound degrees \"\"\"\n",
    "    return lower_bound <= angle <= upper_bound\n",
    "\n",
    "def calculate_centroid(box):\n",
    "  sum_x, sum_y = 0, 0\n",
    "  for point in box:\n",
    "    sum_x += point[0]\n",
    "    sum_y += point[1]\n",
    "  return (sum_x // len(box), sum_y // len(box))"
   ]
  },
  {
   "cell_type": "markdown",
   "metadata": {},
   "source": [
    "## Regex"
   ]
  },
  {
   "cell_type": "code",
   "execution_count": 34,
   "metadata": {
    "execution": {
     "iopub.execute_input": "2024-12-01T20:13:11.797071Z",
     "iopub.status.busy": "2024-12-01T20:13:11.796263Z",
     "iopub.status.idle": "2024-12-01T20:13:11.803154Z",
     "shell.execute_reply": "2024-12-01T20:13:11.802126Z",
     "shell.execute_reply.started": "2024-12-01T20:13:11.797038Z"
    },
    "trusted": true
   },
   "outputs": [
    {
     "name": "stdout",
     "output_type": "stream",
     "text": [
      "16.32\n"
     ]
    }
   ],
   "source": [
    "# Dictionary to store all dimensions \n",
    "units_map = {\n",
    "    'mm'        : 'millimetre',\n",
    "    'millimetre': 'millimetre',\n",
    "    'cm'        : 'centimetre',\n",
    "    'centimetre': 'centimetre',\n",
    "    'in'        : 'inch',\n",
    "    '\"'         : 'inch',\n",
    "    'inch'      : 'inch',\n",
    "    \"'\"         : 'foot',\n",
    "    'ft'        : 'foot',\n",
    "    'foot'      : 'foot',\n",
    "    'yd'        : 'yard',\n",
    "    'yard'      : 'yard',\n",
    "    'metre'     : 'metre',\n",
    "}\n",
    "\n",
    "def extract_number(text):\n",
    "    # Use regular expression to find integers and decimal numbers in the text\n",
    "    match = re.search(r'\\d+(\\.\\d+)?', text)\n",
    "    # Return the found number as a float if a match is found\n",
    "    return float(match.group()) if match else None\n",
    "\n",
    "# Example usage\n",
    "text = \"H: 16.32mm\"\n",
    "number = extract_number(text)\n",
    "print(number)"
   ]
  },
  {
   "cell_type": "code",
   "execution_count": 35,
   "metadata": {
    "execution": {
     "iopub.execute_input": "2024-12-01T20:15:41.404678Z",
     "iopub.status.busy": "2024-12-01T20:15:41.404333Z",
     "iopub.status.idle": "2024-12-01T20:15:41.427519Z",
     "shell.execute_reply": "2024-12-01T20:15:41.426429Z",
     "shell.execute_reply.started": "2024-12-01T20:15:41.404651Z"
    },
    "trusted": true
   },
   "outputs": [],
   "source": [
    "def compute_dimension(file_name = \"box1\", image_url = \"\", mode = \"h\", show0 = False, show = False, show2 = False, show_time = True, show_results = True):\n",
    "    start = time.time()\n",
    "    time_mode = 2\n",
    "    \n",
    "    \n",
    "    ############# EXTRACT OCR ####################\n",
    "    # Read image\n",
    "    image_BRG = None\n",
    "    image_path = f\"/kaggle/input/the-dataset/images/train/{file_name}.jpg\"\n",
    "    if image_url != \"\":\n",
    "        response = requests.get(image_url)\n",
    "        image_bytes = BytesIO(response.content)\n",
    "        image_array = np.array(bytearray(image_bytes.read()), dtype=np.uint8)\n",
    "        img_BRG = cv2.imdecode(image_array, cv2.IMREAD_COLOR)\n",
    "    else: \n",
    "        img_BRG = cv2.imread(image_path)\n",
    "\n",
    "    # Center of Image\n",
    "    height, width, _ = img_BRG.shape\n",
    "    center_x = width // 2\n",
    "    center_y = height // 2\n",
    "    cv2.circle(img_BRG, (center_x, center_y), radius=20, color=(225, 0, 255), thickness=-1)\n",
    "\n",
    "    # Perform OCR on the image\n",
    "    result = OCR.ocr(img_BRG, cls=True)\n",
    "    \n",
    "    # Early Stopping \n",
    "    if result[0] is None:\n",
    "        return (\"-1\",\"\")\n",
    "    \n",
    "    # Extract bounding boxes, texts, and confidence scores\n",
    "    bbox   = [line[0] for line in result[0]]\n",
    "    texts  = [line[1][0] for line in result[0]]\n",
    "    scores = [line[1][1] for line in result[0]]\n",
    "    \n",
    "    ### TIME\n",
    "    if time_mode == 1:\n",
    "        end = time.time()\n",
    "        print(\"Time to extract OCR: \", end-start)\n",
    "\n",
    "\n",
    "    ############# SELECT RELEVANT OCR ####################\n",
    "    # Only considering bounding box with dimensions\n",
    "    dims = []\n",
    "    unit_names = []\n",
    "    dim_scores = []\n",
    "    dim_bboxes = []\n",
    "    for line in result:\n",
    "        for word in line:\n",
    "            bbox, dim, score = word[0], word[1][0], word[1][1]\n",
    "            # Checking for valid unit\n",
    "            for unit, full_name in units_map.items():\n",
    "                if unit in dim.lower():\n",
    "                    unit_names.append(full_name)\n",
    "                    dim_scores.append(score)\n",
    "                    dim_bboxes.append(bbox)\n",
    "                    dims.append(dim)\n",
    "       \n",
    "    \n",
    "    ############# RELEVANT OCR BBOX CENTER ####################\n",
    "    # Calculating centres of bounding boxes\n",
    "    object_centre      = (center_x, center_y)\n",
    "    dim_bboxes_centre  = [calculate_centroid(box) for box in dim_bboxes]\n",
    "    \n",
    "    # Render centers of all bounding boxes\n",
    "    if show:\n",
    "        for point in dim_bboxes_centre:\n",
    "            x, y = map(int, point)\n",
    "            cv2.circle(img_BRG, (x,y), radius=8, color=(0, 0, 255), thickness=-1)\n",
    "\n",
    "\n",
    "    ############# LINE DETECTION ####################\n",
    "    # Convert to grayscale\n",
    "    gray = cv2.cvtColor(img_BRG, cv2.COLOR_BGR2GRAY)\n",
    "\n",
    "    # Edge detection\n",
    "    edges = cv2.Canny(gray, 50, 150, apertureSize=3)\n",
    "    # Detect lines using Hough Line Transform\n",
    "    lines = cv2.HoughLinesP(edges, 1, np.pi / 180, 100, minLineLength=100, maxLineGap=10)\n",
    "\n",
    "    # Early Stopping\n",
    "    if lines is None:\n",
    "        return (\"-1\",\"\")\n",
    "    \n",
    "    # Draw the lines on the image\n",
    "    if show2:\n",
    "        for line in lines:\n",
    "            x1, y1, x2, y2 = line[0]\n",
    "            cv2.line(img_BRG, (x1, y1), (x2, y2), (0, 255, 0), 2)\n",
    "\n",
    "    ############# FIND DIMENSION USING NEAREST LINE ANGLE ####################\n",
    "    \n",
    "    candidates = []\n",
    "        \n",
    "    for i, bbox_centre in enumerate(dim_bboxes_centre):\n",
    "        min_distance = float('inf')\n",
    "        closest_line = None\n",
    "\n",
    "        for line in lines:\n",
    "            x1, y1, x2, y2 = line[0]\n",
    "            px, py = bbox_centre\n",
    "\n",
    "            # Calculate the distance from the bounding box center to the line\n",
    "            dist = distance_point_to_line(px, py, x1, y1, x2, y2)\n",
    "\n",
    "            # Check if this line is closer than previously found\n",
    "            if dist < min_distance:\n",
    "                min_distance = dist\n",
    "                closest_line = line[0]\n",
    "\n",
    "        if closest_line is not None:\n",
    "            x1, y1, x2, y2 = closest_line\n",
    "\n",
    "            # Calculate the angle of the line\n",
    "            angle = line_angle(x1, y1, x2, y2)\n",
    "            if show: \n",
    "                print(f\"{i}. Bbox: {bbox_centre}, Dimension: {dims[i]}\")\n",
    "                print(f\"   Line: {closest_line}, Angle {line_angle(x1, y1, x2, y2)}\")\n",
    "                print(f\"   {is_approximately_horizontal(angle)}\")\n",
    "\n",
    "            # Check if the line is approximately vertical\n",
    "            if mode == \"h\" and is_approximately_vertical(angle):\n",
    "                candidates.append((bbox_centre, dims[i], unit_names[i]))\n",
    "            elif mode == \"l\" and is_approximately_horizontal(angle):\n",
    "                candidates.append((bbox_centre, dims[i], unit_names[i]))\n",
    "            elif mode == \"w\" and is_approximately_horizontal(angle):\n",
    "                candidates.append((bbox_centre, dims[i], unit_names[i]))\n",
    "            \n",
    "            \n",
    "    ############# GETTING NUMERIC VALUE ##############\n",
    "    max_dim = -1\n",
    "    max_dim_name = \"\"\n",
    "    for cen_dim_name in candidates:\n",
    "        cur_dim = extract_number(cen_dim_name[1])\n",
    "        if cur_dim != None:\n",
    "            if (cur_dim > max_dim): \n",
    "                max_dim = cur_dim\n",
    "                max_dim_name = cen_dim_name[2]\n",
    "    \n",
    "    \n",
    "    ############# RESULTS ####################\n",
    "    if show_time:\n",
    "        if time_mode == 2:\n",
    "            end = time.time()\n",
    "            print(f\"TIME FOR FULL PROCESS: {end-start}\")\n",
    "            \n",
    "    if show_results:\n",
    "        # Candidates\n",
    "        print(f\"{mode.upper()} Candidates:\")\n",
    "        for idx, (center, dimension, name) in enumerate(candidates, start=1):\n",
    "            print(f\"{idx} | Center: {center} | Dimension: {dimension} {name}\")\n",
    "        print(f\"\\nFINAL {mode.upper()}: {max_dim} {max_dim_name}\")\n",
    "\n",
    "    # Displaying dimensions only \n",
    "    if show2:\n",
    "        if show0:\n",
    "            print(f\"\\nDimensions: {len(dims)}, {dims}\")\n",
    "            print(f\"Scores: {len(dim_scores)}, {dim_scores}\")\n",
    "            print(f\"Text Bboxes: {len(dim_bboxes)}, {dim_bboxes}\\n\\n\")\n",
    "        print(f\"\\nNumber of relevant bboxes: {len(dims)}\")\n",
    "        image_with_text_boxes = draw_ocr(img_BRG, dim_bboxes, dims, dim_scores, font_path = \"/kaggle/input/times-new-roman-addon/Times New Roman.ttf\")\n",
    "        image_with_text_boxes_rgb = cv2.cvtColor(image_with_text_boxes, cv2.COLOR_BGR2RGB)\n",
    "        # Show the image with bounding boxes\n",
    "        plt.figure(figsize = (20,20))\n",
    "        plt.imshow(image_with_text_boxes_rgb)\n",
    "        plt.axis('off')\n",
    "        plt.show()\n",
    "    \n",
    "    # Returning Answer\n",
    "    return (f\"{max_dim} {max_dim_name}\", texts)"
   ]
  },
  {
   "cell_type": "code",
   "execution_count": 38,
   "metadata": {
    "execution": {
     "iopub.execute_input": "2024-12-01T20:19:18.195618Z",
     "iopub.status.busy": "2024-12-01T20:19:18.195207Z",
     "iopub.status.idle": "2024-12-01T20:19:18.200815Z",
     "shell.execute_reply": "2024-12-01T20:19:18.199844Z",
     "shell.execute_reply.started": "2024-12-01T20:19:18.195573Z"
    },
    "trusted": true
   },
   "outputs": [],
   "source": [
    "# Function to determine 'mode' based on entity_name\n",
    "def determine_mode(entity_name):\n",
    "    if entity_name in ['depth', 'height']:\n",
    "        return 'h'\n",
    "    elif entity_name == 'width':\n",
    "        return 'w'\n",
    "    else:\n",
    "        return 'Invalid' "
   ]
  },
  {
   "cell_type": "code",
   "execution_count": 39,
   "metadata": {
    "execution": {
     "iopub.execute_input": "2024-12-01T20:21:50.642527Z",
     "iopub.status.busy": "2024-12-01T20:21:50.642113Z",
     "iopub.status.idle": "2024-12-01T23:20:39.168790Z",
     "shell.execute_reply": "2024-12-01T23:20:39.167794Z",
     "shell.execute_reply.started": "2024-12-01T20:21:50.642491Z"
    },
    "trusted": true
   },
   "outputs": [
    {
     "name": "stdout",
     "output_type": "stream",
     "text": [
      "Progress: 70000/131187\n",
      "Progress: 75000/131187\n",
      "Progress: 80000/131187\n",
      "Progress: 85000/131187\n",
      "Progress: 90000/131187\n",
      "Progress: 95000/131187\n",
      "Progress: 100000/131187\n",
      "Progress: 105000/131187\n",
      "Progress: 110000/131187\n",
      "Progress: 115000/131187\n",
      "Progress: 120000/131187\n",
      "Progress: 125000/131187\n",
      "Progress: 130000/131187\n",
      "Progress: 131187/131187\n",
      "\n",
      "Filled Responses:   27190\n",
      "Blank Responses:    11082\n",
      "Total Responses:    38272\n",
      "% Filled:  71.04410535117057\n",
      "\n",
      "COMPLETED\n"
     ]
    }
   ],
   "source": [
    "# Read the CSV file\n",
    "df  = pd.read_csv('/kaggle/input/amazon-ml-challenge-2024/test.csv')  \n",
    "df2 = pd.read_csv('/kaggle/input/amazon-ml-challenge-2024/test.csv')  \n",
    "\n",
    "# Latter Half\n",
    "start_index = 65594\n",
    "#df_latter_half = df.iloc[start_index:].reset_index(drop=True)\n",
    "#df_latter_half2 = df_latter_half.copy(deep=True)\n",
    "#df_latter_half.to_csv('/kaggle/working/test_latter_half_65594.csv', index=False)\n",
    "\n",
    "# Counters\n",
    "count_wrong = 0\n",
    "count_correct = 0\n",
    "\n",
    "# dfs in use\n",
    "df_in_use = df\n",
    "df_in_use_ocr = df2\n",
    "\n",
    "# Version of saved files\n",
    "ver = \"_2\"\n",
    "\n",
    "# Iterate over each row and perform operations\n",
    "for index, row in df_in_use.iterrows():\n",
    "    \n",
    "    # Step 0: Start Index\n",
    "    if index < start_index: continue\n",
    "        \n",
    "    # Step 1: Store 'image_link' in 'current_url'\n",
    "    current_url = row['image_link']\n",
    "    \n",
    "    # Step 2: Determine 'mode' based on 'entity_name'\n",
    "    current_mode = determine_mode(row['entity_name'])\n",
    "    \n",
    "    # Step 3: Write a desired string into a new 'entity_value' column\n",
    "    if current_mode != 'Invalid':\n",
    "        (answer, ocr_out) = compute_dimension(file_name = \"\", image_url = current_url, mode = current_mode, show = False, show2 = False, show_time = False, show_results = False)\n",
    "        # OCR Output\n",
    "        if ocr_out != \"\": ocr_out_string = '[' + ', '.join(ocr_out) + ']'\n",
    "        else: ocr_out_string = \"\"\n",
    "        # Storing results\n",
    "        if \"-1\" in answer: \n",
    "            df_in_use.at[index, 'entity_value'] = \"\"\n",
    "            df_in_use_ocr.at[index, 'OCR Output']  = ocr_out_string\n",
    "            count_wrong += 1\n",
    "        else: \n",
    "            df_in_use.at[index, 'entity_value']  = answer\n",
    "            df_in_use_ocr.at[index, 'OCR Output']   = ocr_out_string\n",
    "            count_correct += 1\n",
    "    else:\n",
    "        df_in_use.at[index, 'entity_value']  = \"\"\n",
    "        df_in_use_ocr.at[index, 'OCR Output']   = \"\"\n",
    "    \n",
    "    # Step 4: Every 1000 rows write .csv file to kaggle directory\n",
    "    if index == start_index+15:\n",
    "        df_in_use.to_csv(f'/kaggle/working/test_results{ver}.csv', index = False)\n",
    "        df_in_use_ocr.to_csv(f'/kaggle/working/test_OCR{ver}.csv', index = False)\n",
    "\n",
    "    if (index + 1) % 5000 == 0 or (index + 1) == len(df_in_use):\n",
    "        df_in_use.to_csv(f'/kaggle/working/test_results{ver}.csv', index = False)\n",
    "        df_in_use_ocr.to_csv(f'/kaggle/working/test_OCR{ver}.csv', index = False)\n",
    "        print(f\"Progress: {index+1}/{len(df_in_use)}\")\n",
    "    \n",
    "    #if index == 65593:\n",
    "    #    break\n",
    "    \n",
    "# Write the updated DataFrame with the new 'entity_value' column back to a new CSV file\n",
    "df_in_use.to_csv(f'/kaggle/working/test_results_final{ver}.csv', index = False)\n",
    "df_in_use_ocr.to_csv(f'/kaggle/working/test_OCR_final{ver}.csv', index = False)\n",
    "\n",
    "print(\"\\nFilled Responses:  \", count_correct)\n",
    "print(\"Blank Responses:   \", count_wrong)\n",
    "print(\"Total Responses:   \", count_correct+count_wrong)\n",
    "print(\"% Filled: \", count_correct/(count_correct+count_wrong)*100)\n",
    "print(\"\\nCOMPLETED\")"
   ]
  },
  {
   "cell_type": "markdown",
   "metadata": {},
   "source": [
    "##### COMMENT OUT BEFORE AUTOMATED RUNNING "
   ]
  },
  {
   "cell_type": "code",
   "execution_count": null,
   "metadata": {
    "execution": {
     "iopub.execute_input": "2024-09-14T23:19:17.007035Z",
     "iopub.status.busy": "2024-09-14T23:19:17.006589Z",
     "iopub.status.idle": "2024-09-14T23:19:17.012235Z",
     "shell.execute_reply": "2024-09-14T23:19:17.011042Z",
     "shell.execute_reply.started": "2024-09-14T23:19:17.006987Z"
    },
    "trusted": true
   },
   "outputs": [],
   "source": [
    "#!rm -rf /kaggle/working/*\n",
    "#!ls /kaggle/working/"
   ]
  }
 ],
 "metadata": {
  "kaggle": {
   "accelerator": "nvidiaTeslaT4",
   "dataSources": [
    {
     "datasetId": 5695238,
     "sourceId": 9386528,
     "sourceType": "datasetVersion"
    },
    {
     "datasetId": 6206427,
     "sourceId": 10069685,
     "sourceType": "datasetVersion"
    },
    {
     "datasetId": 5717902,
     "sourceId": 9422104,
     "sourceType": "datasetVersion"
    }
   ],
   "dockerImageVersionId": 30787,
   "isGpuEnabled": true,
   "isInternetEnabled": true,
   "language": "python",
   "sourceType": "notebook"
  },
  "kernelspec": {
   "display_name": "Python 3",
   "language": "python",
   "name": "python3"
  },
  "language_info": {
   "codemirror_mode": {
    "name": "ipython",
    "version": 3
   },
   "file_extension": ".py",
   "mimetype": "text/x-python",
   "name": "python",
   "nbconvert_exporter": "python",
   "pygments_lexer": "ipython3",
   "version": "3.10.14"
  }
 },
 "nbformat": 4,
 "nbformat_minor": 4
}
